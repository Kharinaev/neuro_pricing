{
  "cells": [
    {
      "cell_type": "code",
      "execution_count": null,
      "metadata": {
        "id": "e9yHuJHxTqi0"
      },
      "outputs": [],
      "source": [
        "# import wandb\n",
        "# !wandb login"
      ]
    },
    {
      "cell_type": "code",
      "execution_count": 226,
      "metadata": {
        "colab": {
          "base_uri": "https://localhost:8080/"
        },
        "id": "_RxYpz97TIzW",
        "outputId": "91753e7c-c310-4c83-990e-9ad5709c7c44"
      },
      "outputs": [
        {
          "name": "stdout",
          "output_type": "stream",
          "text": [
            "cuda\n"
          ]
        }
      ],
      "source": [
        "import numpy as np\n",
        "import pandas as pd\n",
        "import plotly.express as px\n",
        "import matplotlib.pyplot as plt\n",
        "import seaborn as sns\n",
        "from tqdm.auto import tqdm\n",
        "import time\n",
        "from datetime import datetime\n",
        "\n",
        "import torch\n",
        "import torch.nn as nn\n",
        "from torch.utils.data import Dataset, DataLoader\n",
        "from torch.utils.tensorboard import SummaryWriter\n",
        "\n",
        "from scipy.stats import qmc, norm\n",
        "from sklearn.model_selection import train_test_split\n",
        "\n",
        "sns.set(style='whitegrid', font_scale=1.2)\n",
        "device = torch.device('cuda' if torch.cuda.is_available() else 'cpu')\n",
        "print(device)"
      ]
    },
    {
      "cell_type": "code",
      "execution_count": 2,
      "metadata": {
        "id": "7N4yGrTyT-MX"
      },
      "outputs": [],
      "source": [
        "def black_scholes(S, K, T, r, sigma, option='call'):\n",
        "    \"\"\"\n",
        "    Black-Scholes closed-form formula for European call and put options.\n",
        "    \n",
        "    Parameters:\n",
        "        S (float): underlying asset price\n",
        "        K (float): option strike price\n",
        "        T (float): time to maturity in years\n",
        "        r (float): risk-free interest rate\n",
        "        sigma (float): volatility of the underlying asset\n",
        "        option (str): 'call' for call option, 'put' for put option (default is 'call')\n",
        "    \n",
        "    Returns:\n",
        "        float: option price according to the Black-Scholes formula\n",
        "    \"\"\"\n",
        "    d1 = (np.log(S/K) + (r + 0.5 * sigma**2) * T) / (sigma * np.sqrt(T))\n",
        "    d2 = d1 - sigma * np.sqrt(T)\n",
        "    \n",
        "    if option == 'call':\n",
        "        return S * norm.cdf(d1) - K * np.exp(-r * T) * norm.cdf(d2)\n",
        "    elif option == 'put':\n",
        "        return K * np.exp(-r * T) * norm.cdf(-d2) - S * norm.cdf(-d1)\n",
        "    else:\n",
        "        raise ValueError(\"Option type must be 'call' or 'put'\")"
      ]
    },
    {
      "cell_type": "code",
      "execution_count": 6,
      "metadata": {},
      "outputs": [],
      "source": [
        "data_description = '''\n",
        "    msft_calls - list of pandas DataFrames, every item corresponds expiration \n",
        "                 expiration date from `expirations`. Each DF contains trading\n",
        "                 info about call option\n",
        "    \n",
        "    msft_puts - same but for put options\n",
        "    \n",
        "    expirations - tuple of expirations dates in string format `YYYY-MM-DD`\n",
        "'''\n",
        "\n",
        "msft_calls = pd.read_pickle('data/msft_calls.pickle')\n",
        "msft_puts = pd.read_pickle('data/msft_puts.pickle')\n",
        "expirations = pd.read_pickle('data/expirations.pickle')\n",
        "\n",
        "msft_stock_price = 294.3900146484375\n",
        "day = '2022-03-16'"
      ]
    },
    {
      "cell_type": "code",
      "execution_count": 7,
      "metadata": {},
      "outputs": [],
      "source": [
        "maturities = [\n",
        "    (\n",
        "        datetime.strptime(expiration, '%Y-%m-%d') - \n",
        "        (datetime.strptime(day, '%Y-%m-%d') if day else datetime.today())\n",
        "    ).days / 256 \n",
        "    for expiration in expirations\n",
        "]"
      ]
    },
    {
      "cell_type": "code",
      "execution_count": 185,
      "metadata": {},
      "outputs": [],
      "source": [
        "def real_data_to_format(real_df, real_price, maturity, risk_free_rate):\n",
        "    df = pd.DataFrame()\n",
        "    df['S2K'] = real_price / real_df.strike\n",
        "    df['T'] = maturity\n",
        "    df['r'] = risk_free_rate\n",
        "    df['sigma'] = real_df.impliedVolatility\n",
        "    df['V2K'] = (real_df.bid + real_df.ask) / 2 / real_df.strike\n",
        "    # df['time_value'] = df['V2K'] - np.maximum(0, df['S2K'] - np.exp(-df['r'] * df['T']))\n",
        "    # df = df.loc[df.time_value > 1e-7].copy()\n",
        "    # df['log_time_value'] = np.log(df['time_value'])\n",
        "    # 0/0\n",
        "    df = df.loc[(df.V2K > 1e-7) & (df.S2K > 1e-7)].copy()\n",
        "    df['log_V2K'] = np.log(df['V2K'])\n",
        "    df['log_S2K'] = np.log(df['S2K'])\n",
        "    return df"
      ]
    },
    {
      "cell_type": "code",
      "execution_count": 36,
      "metadata": {},
      "outputs": [
        {
          "data": {
            "text/html": [
              "<div>\n",
              "<style scoped>\n",
              "    .dataframe tbody tr th:only-of-type {\n",
              "        vertical-align: middle;\n",
              "    }\n",
              "\n",
              "    .dataframe tbody tr th {\n",
              "        vertical-align: top;\n",
              "    }\n",
              "\n",
              "    .dataframe thead th {\n",
              "        text-align: right;\n",
              "    }\n",
              "</style>\n",
              "<table border=\"1\" class=\"dataframe\">\n",
              "  <thead>\n",
              "    <tr style=\"text-align: right;\">\n",
              "      <th></th>\n",
              "      <th>S2K</th>\n",
              "      <th>T</th>\n",
              "      <th>r</th>\n",
              "      <th>sigma</th>\n",
              "      <th>V2K</th>\n",
              "      <th>log_V2K</th>\n",
              "      <th>log_S2K</th>\n",
              "    </tr>\n",
              "  </thead>\n",
              "  <tbody>\n",
              "    <tr>\n",
              "      <th>0</th>\n",
              "      <td>3.679875</td>\n",
              "      <td>0.007812</td>\n",
              "      <td>0.05</td>\n",
              "      <td>8.390630</td>\n",
              "      <td>2.614375</td>\n",
              "      <td>0.961025</td>\n",
              "      <td>1.302879</td>\n",
              "    </tr>\n",
              "    <tr>\n",
              "      <th>1</th>\n",
              "      <td>3.463412</td>\n",
              "      <td>0.007812</td>\n",
              "      <td>0.05</td>\n",
              "      <td>7.537110</td>\n",
              "      <td>2.432941</td>\n",
              "      <td>0.889101</td>\n",
              "      <td>1.242254</td>\n",
              "    </tr>\n",
              "    <tr>\n",
              "      <th>2</th>\n",
              "      <td>3.271000</td>\n",
              "      <td>0.007812</td>\n",
              "      <td>0.05</td>\n",
              "      <td>7.299806</td>\n",
              "      <td>2.224444</td>\n",
              "      <td>0.799507</td>\n",
              "      <td>1.185096</td>\n",
              "    </tr>\n",
              "    <tr>\n",
              "      <th>3</th>\n",
              "      <td>3.098842</td>\n",
              "      <td>0.007812</td>\n",
              "      <td>0.05</td>\n",
              "      <td>6.007815</td>\n",
              "      <td>2.151053</td>\n",
              "      <td>0.765957</td>\n",
              "      <td>1.131029</td>\n",
              "    </tr>\n",
              "    <tr>\n",
              "      <th>4</th>\n",
              "      <td>2.943900</td>\n",
              "      <td>0.007812</td>\n",
              "      <td>0.05</td>\n",
              "      <td>6.179690</td>\n",
              "      <td>1.834000</td>\n",
              "      <td>0.606499</td>\n",
              "      <td>1.079735</td>\n",
              "    </tr>\n",
              "  </tbody>\n",
              "</table>\n",
              "</div>"
            ],
            "text/plain": [
              "        S2K         T     r     sigma       V2K   log_V2K   log_S2K\n",
              "0  3.679875  0.007812  0.05  8.390630  2.614375  0.961025  1.302879\n",
              "1  3.463412  0.007812  0.05  7.537110  2.432941  0.889101  1.242254\n",
              "2  3.271000  0.007812  0.05  7.299806  2.224444  0.799507  1.185096\n",
              "3  3.098842  0.007812  0.05  6.007815  2.151053  0.765957  1.131029\n",
              "4  2.943900  0.007812  0.05  6.179690  1.834000  0.606499  1.079735"
            ]
          },
          "metadata": {},
          "output_type": "display_data"
        },
        {
          "name": "stdout",
          "output_type": "stream",
          "text": [
            "<class 'pandas.core.frame.DataFrame'>\n",
            "Index: 978 entries, 0 to 67\n",
            "Data columns (total 7 columns):\n",
            " #   Column   Non-Null Count  Dtype  \n",
            "---  ------   --------------  -----  \n",
            " 0   S2K      978 non-null    float64\n",
            " 1   T        978 non-null    float64\n",
            " 2   r        978 non-null    float64\n",
            " 3   sigma    978 non-null    float64\n",
            " 4   V2K      978 non-null    float64\n",
            " 5   log_V2K  978 non-null    float64\n",
            " 6   log_S2K  978 non-null    float64\n",
            "dtypes: float64(7)\n",
            "memory usage: 61.1 KB\n"
          ]
        }
      ],
      "source": [
        "idx = 2 \n",
        "real_df_concated = pd.concat([\n",
        "    real_data_to_format(msft_calls[idx], msft_stock_price, maturities[idx], 0.05) for idx in range(len(msft_calls))\n",
        "])\n",
        "display(real_df_concated.head())\n",
        "real_df_concated.info()"
      ]
    },
    {
      "cell_type": "code",
      "execution_count": 37,
      "metadata": {},
      "outputs": [
        {
          "data": {
            "text/html": [
              "<div>\n",
              "<style scoped>\n",
              "    .dataframe tbody tr th:only-of-type {\n",
              "        vertical-align: middle;\n",
              "    }\n",
              "\n",
              "    .dataframe tbody tr th {\n",
              "        vertical-align: top;\n",
              "    }\n",
              "\n",
              "    .dataframe thead th {\n",
              "        text-align: right;\n",
              "    }\n",
              "</style>\n",
              "<table border=\"1\" class=\"dataframe\">\n",
              "  <thead>\n",
              "    <tr style=\"text-align: right;\">\n",
              "      <th></th>\n",
              "      <th>S2K</th>\n",
              "      <th>T</th>\n",
              "      <th>r</th>\n",
              "      <th>sigma</th>\n",
              "      <th>V2K</th>\n",
              "      <th>log_V2K</th>\n",
              "      <th>log_S2K</th>\n",
              "    </tr>\n",
              "  </thead>\n",
              "  <tbody>\n",
              "    <tr>\n",
              "      <th>count</th>\n",
              "      <td>978.000000</td>\n",
              "      <td>978.000000</td>\n",
              "      <td>9.780000e+02</td>\n",
              "      <td>978.000000</td>\n",
              "      <td>978.000000</td>\n",
              "      <td>978.000000</td>\n",
              "      <td>978.000000</td>\n",
              "    </tr>\n",
              "    <tr>\n",
              "      <th>mean</th>\n",
              "      <td>1.143550</td>\n",
              "      <td>0.743857</td>\n",
              "      <td>5.000000e-02</td>\n",
              "      <td>0.566510</td>\n",
              "      <td>0.259377</td>\n",
              "      <td>-3.532163</td>\n",
              "      <td>0.056342</td>\n",
              "    </tr>\n",
              "    <tr>\n",
              "      <th>std</th>\n",
              "      <td>0.513673</td>\n",
              "      <td>0.749395</td>\n",
              "      <td>6.595322e-16</td>\n",
              "      <td>1.047488</td>\n",
              "      <td>0.438352</td>\n",
              "      <td>3.002779</td>\n",
              "      <td>0.375321</td>\n",
              "    </tr>\n",
              "    <tr>\n",
              "      <th>min</th>\n",
              "      <td>0.566135</td>\n",
              "      <td>0.007812</td>\n",
              "      <td>5.000000e-02</td>\n",
              "      <td>0.000010</td>\n",
              "      <td>0.000019</td>\n",
              "      <td>-10.858999</td>\n",
              "      <td>-0.568923</td>\n",
              "    </tr>\n",
              "    <tr>\n",
              "      <th>25%</th>\n",
              "      <td>0.795649</td>\n",
              "      <td>0.113281</td>\n",
              "      <td>5.000000e-02</td>\n",
              "      <td>0.291809</td>\n",
              "      <td>0.004594</td>\n",
              "      <td>-5.383341</td>\n",
              "      <td>-0.228598</td>\n",
              "    </tr>\n",
              "    <tr>\n",
              "      <th>50%</th>\n",
              "      <td>0.997932</td>\n",
              "      <td>0.472656</td>\n",
              "      <td>5.000000e-02</td>\n",
              "      <td>0.346030</td>\n",
              "      <td>0.062926</td>\n",
              "      <td>-2.765793</td>\n",
              "      <td>-0.002070</td>\n",
              "    </tr>\n",
              "    <tr>\n",
              "      <th>75%</th>\n",
              "      <td>1.308400</td>\n",
              "      <td>1.210938</td>\n",
              "      <td>5.000000e-02</td>\n",
              "      <td>0.497136</td>\n",
              "      <td>0.306436</td>\n",
              "      <td>-1.182748</td>\n",
              "      <td>0.268805</td>\n",
              "    </tr>\n",
              "    <tr>\n",
              "      <th>max</th>\n",
              "      <td>3.679875</td>\n",
              "      <td>2.632812</td>\n",
              "      <td>5.000000e-02</td>\n",
              "      <td>14.885255</td>\n",
              "      <td>2.614375</td>\n",
              "      <td>0.961025</td>\n",
              "      <td>1.302879</td>\n",
              "    </tr>\n",
              "  </tbody>\n",
              "</table>\n",
              "</div>"
            ],
            "text/plain": [
              "              S2K           T             r       sigma         V2K   \n",
              "count  978.000000  978.000000  9.780000e+02  978.000000  978.000000  \\\n",
              "mean     1.143550    0.743857  5.000000e-02    0.566510    0.259377   \n",
              "std      0.513673    0.749395  6.595322e-16    1.047488    0.438352   \n",
              "min      0.566135    0.007812  5.000000e-02    0.000010    0.000019   \n",
              "25%      0.795649    0.113281  5.000000e-02    0.291809    0.004594   \n",
              "50%      0.997932    0.472656  5.000000e-02    0.346030    0.062926   \n",
              "75%      1.308400    1.210938  5.000000e-02    0.497136    0.306436   \n",
              "max      3.679875    2.632812  5.000000e-02   14.885255    2.614375   \n",
              "\n",
              "          log_V2K     log_S2K  \n",
              "count  978.000000  978.000000  \n",
              "mean    -3.532163    0.056342  \n",
              "std      3.002779    0.375321  \n",
              "min    -10.858999   -0.568923  \n",
              "25%     -5.383341   -0.228598  \n",
              "50%     -2.765793   -0.002070  \n",
              "75%     -1.182748    0.268805  \n",
              "max      0.961025    1.302879  "
            ]
          },
          "execution_count": 37,
          "metadata": {},
          "output_type": "execute_result"
        }
      ],
      "source": [
        "real_df_concated.describe()"
      ]
    },
    {
      "attachments": {},
      "cell_type": "markdown",
      "metadata": {},
      "source": [
        "### Parameters distributions"
      ]
    },
    {
      "cell_type": "code",
      "execution_count": 136,
      "metadata": {},
      "outputs": [],
      "source": [
        "# for col in real_df_concated.columns:\n",
        "#     plt.figure(figsize=(6,4))\n",
        "#     plt.title(col)\n",
        "#     plt.hist(real_df_concated[col], bins=25)\n",
        "#     plt.show()"
      ]
    },
    {
      "cell_type": "code",
      "execution_count": 39,
      "metadata": {
        "colab": {
          "base_uri": "https://localhost:8080/"
        },
        "id": "u87qceUhU-9z",
        "outputId": "f3a3f9c3-e683-45a2-b5c9-8573dff4040c"
      },
      "outputs": [
        {
          "data": {
            "text/plain": [
              "3.2874437202908e-05"
            ]
          },
          "execution_count": 39,
          "metadata": {},
          "output_type": "execute_result"
        }
      ],
      "source": [
        "example_param_set = {\n",
        "    'S' : 0.5,\n",
        "    'K' : 1,\n",
        "    'T' : 0.5,\n",
        "    'r' : 0.05,\n",
        "    'sigma' : 0.3 \n",
        "}\n",
        "\n",
        "black_scholes(**example_param_set)"
      ]
    },
    {
      "cell_type": "markdown",
      "metadata": {
        "id": "pUPQS93ZaYhy"
      },
      "source": [
        "## Parameters sampling"
      ]
    },
    {
      "cell_type": "code",
      "execution_count": 40,
      "metadata": {
        "colab": {
          "base_uri": "https://localhost:8080/"
        },
        "id": "DKziWRE1aYYY",
        "outputId": "3cae16fc-7895-4c78-b96b-856433ea74df"
      },
      "outputs": [
        {
          "data": {
            "text/plain": [
              "(1000000, 4)"
            ]
          },
          "execution_count": 40,
          "metadata": {},
          "output_type": "execute_result"
        }
      ],
      "source": [
        "# S2K, T, r, sigma -> V2K\n",
        "# r may be constant\n",
        "# n_samples = 1_000_000\n",
        "# bounds_dict = {\n",
        "#     'S2K' : (0.25, 4),\n",
        "#     'T' : (0.01, 2),\n",
        "#     'r' : (0.01, 0.1),\n",
        "#     'sigma' : (0.01, 15)\n",
        "# }\n",
        "# l_bounds = [i[0] for k,i in bounds_dict.items()]\n",
        "# r_bounds = [i[1] for k,i in bounds_dict.items()]\n",
        "# lhc = qmc.LatinHypercube(d=4)\n",
        "# bs_params = qmc.scale(lhc.random(n=n_samples), l_bounds, r_bounds)\n",
        "# bs_params.shape"
      ]
    },
    {
      "cell_type": "code",
      "execution_count": 188,
      "metadata": {},
      "outputs": [],
      "source": [
        "distributions = pd.read_pickle('distributions.pkl')\n",
        "\n",
        "def sample_distr(distr_info, size):\n",
        "    distr = distr_info[0]\n",
        "    params = distr_info[1]\n",
        "    arg = params[:-2]\n",
        "    loc = params[-2]\n",
        "    scale = params[-1]\n",
        "    if arg:\n",
        "        return distr.rvs(size=size, *arg, loc=loc, scale=scale)\n",
        "    else: \n",
        "        return distr.rvs(size=size, loc=loc, scale=scale)"
      ]
    },
    {
      "cell_type": "code",
      "execution_count": 214,
      "metadata": {},
      "outputs": [
        {
          "data": {
            "text/plain": [
              "(500000, 4)"
            ]
          },
          "execution_count": 214,
          "metadata": {},
          "output_type": "execute_result"
        }
      ],
      "source": [
        "n_samples = 500_000\n",
        "bs_params = np.vstack([\n",
        "    sample_distr(distributions['S2K'], n_samples), \n",
        "    np.random.uniform(0.01, 2, n_samples), # T\n",
        "    np.random.uniform(0.01, 0.1, n_samples), # r\n",
        "    sample_distr(distributions['sigma'], n_samples),\n",
        "]).T\n",
        "bs_params.shape"
      ]
    },
    {
      "cell_type": "code",
      "execution_count": 215,
      "metadata": {
        "colab": {
          "base_uri": "https://localhost:8080/"
        },
        "id": "02EpZINMaT3r",
        "outputId": "c498e3e5-9b28-439c-a3b7-5d43b571b5fb"
      },
      "outputs": [
        {
          "name": "stdout",
          "output_type": "stream",
          "text": [
            "CPU times: user 39.5 s, sys: 3.72 ms, total: 39.5 s\n",
            "Wall time: 39.5 s\n"
          ]
        },
        {
          "data": {
            "text/plain": [
              "(500000,)"
            ]
          },
          "execution_count": 215,
          "metadata": {},
          "output_type": "execute_result"
        }
      ],
      "source": [
        "%%time\n",
        "prices = np.apply_along_axis(\n",
        "    func1d=lambda x: black_scholes(x[0], 1, x[1], x[2], x[3]), \n",
        "    axis=1,\n",
        "    arr=bs_params\n",
        ")\n",
        "prices.shape"
      ]
    },
    {
      "cell_type": "code",
      "execution_count": 216,
      "metadata": {
        "colab": {
          "base_uri": "https://localhost:8080/",
          "height": 414
        },
        "id": "mmJ2aJBRcGBD",
        "outputId": "748d92de-7a7a-4994-c58a-922cf586a0f8"
      },
      "outputs": [
        {
          "data": {
            "text/html": [
              "<div>\n",
              "<style scoped>\n",
              "    .dataframe tbody tr th:only-of-type {\n",
              "        vertical-align: middle;\n",
              "    }\n",
              "\n",
              "    .dataframe tbody tr th {\n",
              "        vertical-align: top;\n",
              "    }\n",
              "\n",
              "    .dataframe thead th {\n",
              "        text-align: right;\n",
              "    }\n",
              "</style>\n",
              "<table border=\"1\" class=\"dataframe\">\n",
              "  <thead>\n",
              "    <tr style=\"text-align: right;\">\n",
              "      <th></th>\n",
              "      <th>S2K</th>\n",
              "      <th>T</th>\n",
              "      <th>r</th>\n",
              "      <th>sigma</th>\n",
              "      <th>V2K</th>\n",
              "    </tr>\n",
              "  </thead>\n",
              "  <tbody>\n",
              "    <tr>\n",
              "      <th>0</th>\n",
              "      <td>1.385154</td>\n",
              "      <td>0.804165</td>\n",
              "      <td>0.055634</td>\n",
              "      <td>0.616053</td>\n",
              "      <td>0.522333</td>\n",
              "    </tr>\n",
              "    <tr>\n",
              "      <th>1</th>\n",
              "      <td>0.782463</td>\n",
              "      <td>0.919889</td>\n",
              "      <td>0.024426</td>\n",
              "      <td>0.712509</td>\n",
              "      <td>0.149564</td>\n",
              "    </tr>\n",
              "    <tr>\n",
              "      <th>2</th>\n",
              "      <td>0.785911</td>\n",
              "      <td>0.319909</td>\n",
              "      <td>0.018453</td>\n",
              "      <td>0.378591</td>\n",
              "      <td>0.013004</td>\n",
              "    </tr>\n",
              "    <tr>\n",
              "      <th>3</th>\n",
              "      <td>0.930099</td>\n",
              "      <td>1.244816</td>\n",
              "      <td>0.034510</td>\n",
              "      <td>0.240164</td>\n",
              "      <td>0.087293</td>\n",
              "    </tr>\n",
              "    <tr>\n",
              "      <th>4</th>\n",
              "      <td>0.583843</td>\n",
              "      <td>0.859095</td>\n",
              "      <td>0.044179</td>\n",
              "      <td>0.483653</td>\n",
              "      <td>0.021988</td>\n",
              "    </tr>\n",
              "  </tbody>\n",
              "</table>\n",
              "</div>"
            ],
            "text/plain": [
              "        S2K         T         r     sigma       V2K\n",
              "0  1.385154  0.804165  0.055634  0.616053  0.522333\n",
              "1  0.782463  0.919889  0.024426  0.712509  0.149564\n",
              "2  0.785911  0.319909  0.018453  0.378591  0.013004\n",
              "3  0.930099  1.244816  0.034510  0.240164  0.087293\n",
              "4  0.583843  0.859095  0.044179  0.483653  0.021988"
            ]
          },
          "metadata": {},
          "output_type": "display_data"
        },
        {
          "name": "stdout",
          "output_type": "stream",
          "text": [
            "<class 'pandas.core.frame.DataFrame'>\n",
            "RangeIndex: 500000 entries, 0 to 499999\n",
            "Data columns (total 5 columns):\n",
            " #   Column  Non-Null Count   Dtype  \n",
            "---  ------  --------------   -----  \n",
            " 0   S2K     500000 non-null  float64\n",
            " 1   T       500000 non-null  float64\n",
            " 2   r       500000 non-null  float64\n",
            " 3   sigma   500000 non-null  float64\n",
            " 4   V2K     500000 non-null  float64\n",
            "dtypes: float64(5)\n",
            "memory usage: 19.1 MB\n"
          ]
        }
      ],
      "source": [
        "df = pd.DataFrame(data=bs_params, columns=['S2K', 'T', 'r', 'sigma'])\n",
        "df['V2K'] = prices\n",
        "display(df.head())\n",
        "df.info()"
      ]
    },
    {
      "cell_type": "code",
      "execution_count": 217,
      "metadata": {},
      "outputs": [
        {
          "data": {
            "text/html": [
              "<div>\n",
              "<style scoped>\n",
              "    .dataframe tbody tr th:only-of-type {\n",
              "        vertical-align: middle;\n",
              "    }\n",
              "\n",
              "    .dataframe tbody tr th {\n",
              "        vertical-align: top;\n",
              "    }\n",
              "\n",
              "    .dataframe thead th {\n",
              "        text-align: right;\n",
              "    }\n",
              "</style>\n",
              "<table border=\"1\" class=\"dataframe\">\n",
              "  <thead>\n",
              "    <tr style=\"text-align: right;\">\n",
              "      <th></th>\n",
              "      <th>S2K</th>\n",
              "      <th>T</th>\n",
              "      <th>r</th>\n",
              "      <th>sigma</th>\n",
              "      <th>V2K</th>\n",
              "    </tr>\n",
              "  </thead>\n",
              "  <tbody>\n",
              "    <tr>\n",
              "      <th>count</th>\n",
              "      <td>500000.000000</td>\n",
              "      <td>500000.000000</td>\n",
              "      <td>500000.000000</td>\n",
              "      <td>500000.000000</td>\n",
              "      <td>500000.000000</td>\n",
              "    </tr>\n",
              "    <tr>\n",
              "      <th>mean</th>\n",
              "      <td>1.146157</td>\n",
              "      <td>1.007094</td>\n",
              "      <td>0.054970</td>\n",
              "      <td>0.501968</td>\n",
              "      <td>0.374691</td>\n",
              "    </tr>\n",
              "    <tr>\n",
              "      <th>std</th>\n",
              "      <td>0.552362</td>\n",
              "      <td>0.574137</td>\n",
              "      <td>0.025979</td>\n",
              "      <td>0.372550</td>\n",
              "      <td>0.496635</td>\n",
              "    </tr>\n",
              "    <tr>\n",
              "      <th>min</th>\n",
              "      <td>0.515881</td>\n",
              "      <td>0.010001</td>\n",
              "      <td>0.010000</td>\n",
              "      <td>-0.032763</td>\n",
              "      <td>-0.345139</td>\n",
              "    </tr>\n",
              "    <tr>\n",
              "      <th>25%</th>\n",
              "      <td>0.798684</td>\n",
              "      <td>0.510366</td>\n",
              "      <td>0.032472</td>\n",
              "      <td>0.251140</td>\n",
              "      <td>0.068065</td>\n",
              "    </tr>\n",
              "    <tr>\n",
              "      <th>50%</th>\n",
              "      <td>0.992020</td>\n",
              "      <td>1.006870</td>\n",
              "      <td>0.054964</td>\n",
              "      <td>0.408612</td>\n",
              "      <td>0.218741</td>\n",
              "    </tr>\n",
              "    <tr>\n",
              "      <th>75%</th>\n",
              "      <td>1.309433</td>\n",
              "      <td>1.504852</td>\n",
              "      <td>0.077447</td>\n",
              "      <td>0.644993</td>\n",
              "      <td>0.491198</td>\n",
              "    </tr>\n",
              "    <tr>\n",
              "      <th>max</th>\n",
              "      <td>24.289809</td>\n",
              "      <td>1.999993</td>\n",
              "      <td>0.100000</td>\n",
              "      <td>8.597162</td>\n",
              "      <td>23.328940</td>\n",
              "    </tr>\n",
              "  </tbody>\n",
              "</table>\n",
              "</div>"
            ],
            "text/plain": [
              "                 S2K              T              r          sigma   \n",
              "count  500000.000000  500000.000000  500000.000000  500000.000000  \\\n",
              "mean        1.146157       1.007094       0.054970       0.501968   \n",
              "std         0.552362       0.574137       0.025979       0.372550   \n",
              "min         0.515881       0.010001       0.010000      -0.032763   \n",
              "25%         0.798684       0.510366       0.032472       0.251140   \n",
              "50%         0.992020       1.006870       0.054964       0.408612   \n",
              "75%         1.309433       1.504852       0.077447       0.644993   \n",
              "max        24.289809       1.999993       0.100000       8.597162   \n",
              "\n",
              "                 V2K  \n",
              "count  500000.000000  \n",
              "mean        0.374691  \n",
              "std         0.496635  \n",
              "min        -0.345139  \n",
              "25%         0.068065  \n",
              "50%         0.218741  \n",
              "75%         0.491198  \n",
              "max        23.328940  "
            ]
          },
          "metadata": {},
          "output_type": "display_data"
        },
        {
          "data": {
            "text/html": [
              "<div>\n",
              "<style scoped>\n",
              "    .dataframe tbody tr th:only-of-type {\n",
              "        vertical-align: middle;\n",
              "    }\n",
              "\n",
              "    .dataframe tbody tr th {\n",
              "        vertical-align: top;\n",
              "    }\n",
              "\n",
              "    .dataframe thead th {\n",
              "        text-align: right;\n",
              "    }\n",
              "</style>\n",
              "<table border=\"1\" class=\"dataframe\">\n",
              "  <thead>\n",
              "    <tr style=\"text-align: right;\">\n",
              "      <th></th>\n",
              "      <th>S2K</th>\n",
              "      <th>T</th>\n",
              "      <th>r</th>\n",
              "      <th>sigma</th>\n",
              "      <th>V2K</th>\n",
              "      <th>log_V2K</th>\n",
              "      <th>log_S2K</th>\n",
              "    </tr>\n",
              "  </thead>\n",
              "  <tbody>\n",
              "    <tr>\n",
              "      <th>count</th>\n",
              "      <td>978.000000</td>\n",
              "      <td>978.000000</td>\n",
              "      <td>9.780000e+02</td>\n",
              "      <td>978.000000</td>\n",
              "      <td>978.000000</td>\n",
              "      <td>978.000000</td>\n",
              "      <td>978.000000</td>\n",
              "    </tr>\n",
              "    <tr>\n",
              "      <th>mean</th>\n",
              "      <td>1.143550</td>\n",
              "      <td>0.743857</td>\n",
              "      <td>5.000000e-02</td>\n",
              "      <td>0.566510</td>\n",
              "      <td>0.259377</td>\n",
              "      <td>-3.532163</td>\n",
              "      <td>0.056342</td>\n",
              "    </tr>\n",
              "    <tr>\n",
              "      <th>std</th>\n",
              "      <td>0.513673</td>\n",
              "      <td>0.749395</td>\n",
              "      <td>6.595322e-16</td>\n",
              "      <td>1.047488</td>\n",
              "      <td>0.438352</td>\n",
              "      <td>3.002779</td>\n",
              "      <td>0.375321</td>\n",
              "    </tr>\n",
              "    <tr>\n",
              "      <th>min</th>\n",
              "      <td>0.566135</td>\n",
              "      <td>0.007812</td>\n",
              "      <td>5.000000e-02</td>\n",
              "      <td>0.000010</td>\n",
              "      <td>0.000019</td>\n",
              "      <td>-10.858999</td>\n",
              "      <td>-0.568923</td>\n",
              "    </tr>\n",
              "    <tr>\n",
              "      <th>25%</th>\n",
              "      <td>0.795649</td>\n",
              "      <td>0.113281</td>\n",
              "      <td>5.000000e-02</td>\n",
              "      <td>0.291809</td>\n",
              "      <td>0.004594</td>\n",
              "      <td>-5.383341</td>\n",
              "      <td>-0.228598</td>\n",
              "    </tr>\n",
              "    <tr>\n",
              "      <th>50%</th>\n",
              "      <td>0.997932</td>\n",
              "      <td>0.472656</td>\n",
              "      <td>5.000000e-02</td>\n",
              "      <td>0.346030</td>\n",
              "      <td>0.062926</td>\n",
              "      <td>-2.765793</td>\n",
              "      <td>-0.002070</td>\n",
              "    </tr>\n",
              "    <tr>\n",
              "      <th>75%</th>\n",
              "      <td>1.308400</td>\n",
              "      <td>1.210938</td>\n",
              "      <td>5.000000e-02</td>\n",
              "      <td>0.497136</td>\n",
              "      <td>0.306436</td>\n",
              "      <td>-1.182748</td>\n",
              "      <td>0.268805</td>\n",
              "    </tr>\n",
              "    <tr>\n",
              "      <th>max</th>\n",
              "      <td>3.679875</td>\n",
              "      <td>2.632812</td>\n",
              "      <td>5.000000e-02</td>\n",
              "      <td>14.885255</td>\n",
              "      <td>2.614375</td>\n",
              "      <td>0.961025</td>\n",
              "      <td>1.302879</td>\n",
              "    </tr>\n",
              "  </tbody>\n",
              "</table>\n",
              "</div>"
            ],
            "text/plain": [
              "              S2K           T             r       sigma         V2K   \n",
              "count  978.000000  978.000000  9.780000e+02  978.000000  978.000000  \\\n",
              "mean     1.143550    0.743857  5.000000e-02    0.566510    0.259377   \n",
              "std      0.513673    0.749395  6.595322e-16    1.047488    0.438352   \n",
              "min      0.566135    0.007812  5.000000e-02    0.000010    0.000019   \n",
              "25%      0.795649    0.113281  5.000000e-02    0.291809    0.004594   \n",
              "50%      0.997932    0.472656  5.000000e-02    0.346030    0.062926   \n",
              "75%      1.308400    1.210938  5.000000e-02    0.497136    0.306436   \n",
              "max      3.679875    2.632812  5.000000e-02   14.885255    2.614375   \n",
              "\n",
              "          log_V2K     log_S2K  \n",
              "count  978.000000  978.000000  \n",
              "mean    -3.532163    0.056342  \n",
              "std      3.002779    0.375321  \n",
              "min    -10.858999   -0.568923  \n",
              "25%     -5.383341   -0.228598  \n",
              "50%     -2.765793   -0.002070  \n",
              "75%     -1.182748    0.268805  \n",
              "max      0.961025    1.302879  "
            ]
          },
          "metadata": {},
          "output_type": "display_data"
        }
      ],
      "source": [
        "display(df.describe())\n",
        "display(real_df_concated.describe())"
      ]
    },
    {
      "cell_type": "code",
      "execution_count": 218,
      "metadata": {
        "colab": {
          "base_uri": "https://localhost:8080/",
          "height": 300
        },
        "id": "aWnHT9qVcWpk",
        "outputId": "1c460ed5-40b6-4913-b193-76af5569c03c"
      },
      "outputs": [
        {
          "name": "stdout",
          "output_type": "stream",
          "text": [
            "before (500000, 5)\n",
            "after (491945, 5)\n"
          ]
        },
        {
          "data": {
            "text/html": [
              "<div>\n",
              "<style scoped>\n",
              "    .dataframe tbody tr th:only-of-type {\n",
              "        vertical-align: middle;\n",
              "    }\n",
              "\n",
              "    .dataframe tbody tr th {\n",
              "        vertical-align: top;\n",
              "    }\n",
              "\n",
              "    .dataframe thead th {\n",
              "        text-align: right;\n",
              "    }\n",
              "</style>\n",
              "<table border=\"1\" class=\"dataframe\">\n",
              "  <thead>\n",
              "    <tr style=\"text-align: right;\">\n",
              "      <th></th>\n",
              "      <th>S2K</th>\n",
              "      <th>T</th>\n",
              "      <th>r</th>\n",
              "      <th>sigma</th>\n",
              "      <th>V2K</th>\n",
              "      <th>log_V2K</th>\n",
              "      <th>log_S2K</th>\n",
              "    </tr>\n",
              "  </thead>\n",
              "  <tbody>\n",
              "    <tr>\n",
              "      <th>count</th>\n",
              "      <td>491945.000000</td>\n",
              "      <td>491945.000000</td>\n",
              "      <td>491945.000000</td>\n",
              "      <td>491945.000000</td>\n",
              "      <td>4.919450e+05</td>\n",
              "      <td>491945.000000</td>\n",
              "      <td>491945.000000</td>\n",
              "    </tr>\n",
              "    <tr>\n",
              "      <th>mean</th>\n",
              "      <td>1.153319</td>\n",
              "      <td>1.017629</td>\n",
              "      <td>0.054985</td>\n",
              "      <td>0.507762</td>\n",
              "      <td>3.808558e-01</td>\n",
              "      <td>-1.992226</td>\n",
              "      <td>0.062629</td>\n",
              "    </tr>\n",
              "    <tr>\n",
              "      <th>std</th>\n",
              "      <td>0.553691</td>\n",
              "      <td>0.569985</td>\n",
              "      <td>0.025978</td>\n",
              "      <td>0.372473</td>\n",
              "      <td>4.983171e-01</td>\n",
              "      <td>2.166801</td>\n",
              "      <td>0.375815</td>\n",
              "    </tr>\n",
              "    <tr>\n",
              "      <th>min</th>\n",
              "      <td>0.515881</td>\n",
              "      <td>0.010001</td>\n",
              "      <td>0.010000</td>\n",
              "      <td>0.000127</td>\n",
              "      <td>1.000441e-07</td>\n",
              "      <td>-16.117655</td>\n",
              "      <td>-0.661880</td>\n",
              "    </tr>\n",
              "    <tr>\n",
              "      <th>25%</th>\n",
              "      <td>0.805809</td>\n",
              "      <td>0.526507</td>\n",
              "      <td>0.032492</td>\n",
              "      <td>0.256778</td>\n",
              "      <td>7.385143e-02</td>\n",
              "      <td>-2.605700</td>\n",
              "      <td>-0.215909</td>\n",
              "    </tr>\n",
              "    <tr>\n",
              "      <th>50%</th>\n",
              "      <td>0.998871</td>\n",
              "      <td>1.019568</td>\n",
              "      <td>0.054987</td>\n",
              "      <td>0.413895</td>\n",
              "      <td>2.251003e-01</td>\n",
              "      <td>-1.491209</td>\n",
              "      <td>-0.001130</td>\n",
              "    </tr>\n",
              "    <tr>\n",
              "      <th>75%</th>\n",
              "      <td>1.316917</td>\n",
              "      <td>1.511461</td>\n",
              "      <td>0.077461</td>\n",
              "      <td>0.650391</td>\n",
              "      <td>4.980053e-01</td>\n",
              "      <td>-0.697144</td>\n",
              "      <td>0.275293</td>\n",
              "    </tr>\n",
              "    <tr>\n",
              "      <th>max</th>\n",
              "      <td>24.289809</td>\n",
              "      <td>1.999993</td>\n",
              "      <td>0.100000</td>\n",
              "      <td>8.597162</td>\n",
              "      <td>2.332894e+01</td>\n",
              "      <td>3.149695</td>\n",
              "      <td>3.190057</td>\n",
              "    </tr>\n",
              "  </tbody>\n",
              "</table>\n",
              "</div>"
            ],
            "text/plain": [
              "                 S2K              T              r          sigma   \n",
              "count  491945.000000  491945.000000  491945.000000  491945.000000  \\\n",
              "mean        1.153319       1.017629       0.054985       0.507762   \n",
              "std         0.553691       0.569985       0.025978       0.372473   \n",
              "min         0.515881       0.010001       0.010000       0.000127   \n",
              "25%         0.805809       0.526507       0.032492       0.256778   \n",
              "50%         0.998871       1.019568       0.054987       0.413895   \n",
              "75%         1.316917       1.511461       0.077461       0.650391   \n",
              "max        24.289809       1.999993       0.100000       8.597162   \n",
              "\n",
              "                V2K        log_V2K        log_S2K  \n",
              "count  4.919450e+05  491945.000000  491945.000000  \n",
              "mean   3.808558e-01      -1.992226       0.062629  \n",
              "std    4.983171e-01       2.166801       0.375815  \n",
              "min    1.000441e-07     -16.117655      -0.661880  \n",
              "25%    7.385143e-02      -2.605700      -0.215909  \n",
              "50%    2.251003e-01      -1.491209      -0.001130  \n",
              "75%    4.980053e-01      -0.697144       0.275293  \n",
              "max    2.332894e+01       3.149695       3.190057  "
            ]
          },
          "execution_count": 218,
          "metadata": {},
          "output_type": "execute_result"
        }
      ],
      "source": [
        "# df['time_value'] = df['V2K'] - np.maximum(0, df['S2K'] - np.exp(-df['r'] * df['T']))\n",
        "# df = df.loc[df.time_value > 1e-7].copy()\n",
        "# df['log_time_value'] = np.log(df['time_value'])\n",
        "print('before', df.shape)\n",
        "df = df.loc[(df.V2K > 1e-7) & (df.S2K > 1e-7)].copy()\n",
        "print('after', df.shape)\n",
        "df['log_V2K'] = np.log(df['V2K'])\n",
        "df['log_S2K'] = np.log(df['S2K'])\n",
        "df.describe()"
      ]
    },
    {
      "cell_type": "code",
      "execution_count": 219,
      "metadata": {
        "id": "xBQDDi5niScb"
      },
      "outputs": [],
      "source": [
        "class MyDataset(Dataset):\n",
        "    def __init__(self, df, columns, target):\n",
        "        self.df = df\n",
        "        self.columns = columns\n",
        "        self.target = target\n",
        "        self.data_tensor = torch.Tensor(df[columns].values)\n",
        "        self.target_tensor = torch.Tensor(df[target].values)\n",
        "\n",
        "    def __len__(self):\n",
        "        return len(self.df)\n",
        "\n",
        "    def __getitem__(self, idx):\n",
        "        return (self.data_tensor[idx], self.target_tensor[idx])"
      ]
    },
    {
      "cell_type": "code",
      "execution_count": 220,
      "metadata": {
        "id": "E1K2Xha5lHLb"
      },
      "outputs": [],
      "source": [
        "class ANN(nn.Module):\n",
        "    def __init__(self, struct, bn=False):\n",
        "        super().__init__()\n",
        "        layers = []\n",
        "        for i,l in enumerate(struct[:-1]):\n",
        "            if bn:\n",
        "                layers.append(nn.BatchNorm1d(struct[i]))\n",
        "            \n",
        "            layers += [\n",
        "                nn.Linear(struct[i], struct[i+1]),\n",
        "                nn.ReLU()\n",
        "            ]\n",
        "\n",
        "        self.net = nn.Sequential(*layers[:-1])\n",
        "\n",
        "    def forward(self, x):\n",
        "        return self.net(x)"
      ]
    },
    {
      "cell_type": "code",
      "execution_count": 221,
      "metadata": {
        "id": "bevZTkb8mWRE"
      },
      "outputs": [],
      "source": [
        "df_train, df_test = train_test_split(df, train_size=0.8)"
      ]
    },
    {
      "cell_type": "code",
      "execution_count": null,
      "metadata": {
        "id": "CBRkf2Wkl8_9"
      },
      "outputs": [],
      "source": []
    },
    {
      "cell_type": "code",
      "execution_count": 222,
      "metadata": {},
      "outputs": [],
      "source": [
        "columns = [\n",
        "    # 'log_time_value',\n",
        "    'log_V2K',\n",
        "    'r',\n",
        "    'T',\n",
        "    # 'log_S2K'\n",
        "    'S2K'\n",
        "]\n",
        "target = 'sigma'\n",
        "dataset_train = MyDataset(df_train, columns, target)\n",
        "dataset_test = MyDataset(df_test, columns, target)\n",
        "dataloader_train = DataLoader(dataset_train, shuffle=True, batch_size=5000)\n",
        "dataloader_test = DataLoader(dataset_test, shuffle=False, batch_size=5000)"
      ]
    },
    {
      "cell_type": "code",
      "execution_count": 199,
      "metadata": {
        "id": "w2QMKKasm4hQ"
      },
      "outputs": [],
      "source": [
        "struct_ann = [4, 256, 512, 256, 64, 1]\n",
        "model = ANN(struct_ann, bn=True).to(device)\n",
        "optimizer = torch.optim.Adam(model.parameters(), lr=1e-3)\n",
        "criterion = nn.MSELoss()"
      ]
    },
    {
      "cell_type": "code",
      "execution_count": 223,
      "metadata": {
        "id": "hm7YcnSInN_W"
      },
      "outputs": [],
      "source": [
        "def train(model, optimizer, criterion, dataloader_train, dataloader_test, num_epochs, noise=None):\n",
        "    logs = {\n",
        "        'train_loss' : [],\n",
        "        'test_loss' : []\n",
        "    }\n",
        "    model.train()\n",
        "    for epoch in tqdm(range(num_epochs), desc='Epoch'):\n",
        "        running_loss = 0.0\n",
        "        for X,y in dataloader_train:\n",
        "            X = X.to(device)\n",
        "            y = y.to(device).unsqueeze(1)\n",
        "            if noise is not None:\n",
        "                y = y + torch.rand_like(y) * noise\n",
        "            optimizer.zero_grad()\n",
        "            out = model(X)\n",
        "            loss = criterion(out, y)\n",
        "            running_loss += loss.item()\n",
        "            loss.backward()\n",
        "            optimizer.step()\n",
        "        logs['train_loss'].append(running_loss/len(dataloader_train))\n",
        "\n",
        "        running_loss = 0.0\n",
        "        for X,y in dataloader_test:\n",
        "            with torch.no_grad():\n",
        "                X = X.to(device)\n",
        "                y = y.to(device).unsqueeze(1)\n",
        "                out = model(X)\n",
        "                loss = criterion(out, y)\n",
        "                running_loss += loss.item()\n",
        "        logs['test_loss'].append(running_loss/len(dataloader_test))\n",
        "\n",
        "    return logs"
      ]
    },
    {
      "cell_type": "code",
      "execution_count": 224,
      "metadata": {},
      "outputs": [
        {
          "data": {
            "application/vnd.jupyter.widget-view+json": {
              "model_id": "be7eaff55a4c4ac8a86069df0136ca77",
              "version_major": 2,
              "version_minor": 0
            },
            "text/plain": [
              "Epoch:   0%|          | 0/50 [00:00<?, ?it/s]"
            ]
          },
          "metadata": {},
          "output_type": "display_data"
        }
      ],
      "source": [
        "logs = train(model, optimizer, criterion, dataloader_train, dataloader_test, num_epochs=50, noise=1e-2)"
      ]
    },
    {
      "cell_type": "code",
      "execution_count": 225,
      "metadata": {
        "colab": {
          "base_uri": "https://localhost:8080/",
          "height": 506
        },
        "id": "EFJul3viplNQ",
        "outputId": "b8bb6de5-4e83-4418-922e-a67d14034b1a"
      },
      "outputs": [
        {
          "data": {
            "image/png": "[encoded data removed]",
            "text/plain": [
              "<Figure size 1500x800 with 1 Axes>"
            ]
          },
          "metadata": {},
          "output_type": "display_data"
        }
      ],
      "source": [
        "plt.figure(figsize=(15,8))\n",
        "plt.plot(logs['train_loss'], c='blue', label='train')\n",
        "plt.plot(logs['test_loss'], c='red', label='test')\n",
        "plt.xlabel('Epoch')\n",
        "plt.ylabel('MSE')\n",
        "plt.legend()\n",
        "plt.show()"
      ]
    },
    {
      "cell_type": "markdown",
      "metadata": {
        "id": "FzQr2lZn2YmQ"
      },
      "source": [
        "### Добавим шум в целевую переменную для усложнения задачи"
      ]
    },
    {
      "cell_type": "code",
      "execution_count": null,
      "metadata": {
        "id": "5tvY93U4qRcc"
      },
      "outputs": [],
      "source": []
    },
    {
      "cell_type": "code",
      "execution_count": null,
      "metadata": {
        "id": "jUuGxY3f2gxA"
      },
      "outputs": [],
      "source": []
    },
    {
      "cell_type": "markdown",
      "metadata": {
        "id": "BDdz4DRk2hVf"
      },
      "source": [
        "## Тестим на реальных данных MSFT"
      ]
    },
    {
      "cell_type": "code",
      "execution_count": 238,
      "metadata": {},
      "outputs": [],
      "source": [
        "idx = 2\n",
        "real_df = real_data_to_format(msft_calls[idx], msft_stock_price, maturities[idx], 0.05)"
      ]
    },
    {
      "cell_type": "code",
      "execution_count": 239,
      "metadata": {},
      "outputs": [
        {
          "data": {
            "text/html": [
              "<div>\n",
              "<style scoped>\n",
              "    .dataframe tbody tr th:only-of-type {\n",
              "        vertical-align: middle;\n",
              "    }\n",
              "\n",
              "    .dataframe tbody tr th {\n",
              "        vertical-align: top;\n",
              "    }\n",
              "\n",
              "    .dataframe thead th {\n",
              "        text-align: right;\n",
              "    }\n",
              "</style>\n",
              "<table border=\"1\" class=\"dataframe\">\n",
              "  <thead>\n",
              "    <tr style=\"text-align: right;\">\n",
              "      <th></th>\n",
              "      <th>contractSymbol</th>\n",
              "      <th>lastTradeDate</th>\n",
              "      <th>strike</th>\n",
              "      <th>lastPrice</th>\n",
              "      <th>bid</th>\n",
              "      <th>ask</th>\n",
              "      <th>change</th>\n",
              "      <th>percentChange</th>\n",
              "      <th>volume</th>\n",
              "      <th>openInterest</th>\n",
              "      <th>impliedVolatility</th>\n",
              "      <th>inTheMoney</th>\n",
              "      <th>contractSize</th>\n",
              "      <th>currency</th>\n",
              "    </tr>\n",
              "  </thead>\n",
              "  <tbody>\n",
              "    <tr>\n",
              "      <th>0</th>\n",
              "      <td>MSFT220401C00200000</td>\n",
              "      <td>2022-03-11 18:31:22+00:00</td>\n",
              "      <td>200.0</td>\n",
              "      <td>85.50</td>\n",
              "      <td>92.10</td>\n",
              "      <td>96.2</td>\n",
              "      <td>0.000000</td>\n",
              "      <td>0.000000</td>\n",
              "      <td>2.0</td>\n",
              "      <td>21</td>\n",
              "      <td>1.192387</td>\n",
              "      <td>True</td>\n",
              "      <td>REGULAR</td>\n",
              "      <td>USD</td>\n",
              "    </tr>\n",
              "    <tr>\n",
              "      <th>1</th>\n",
              "      <td>MSFT220401C00225000</td>\n",
              "      <td>2022-02-23 17:58:36+00:00</td>\n",
              "      <td>225.0</td>\n",
              "      <td>62.30</td>\n",
              "      <td>67.20</td>\n",
              "      <td>70.2</td>\n",
              "      <td>0.000000</td>\n",
              "      <td>0.000000</td>\n",
              "      <td>1.0</td>\n",
              "      <td>0</td>\n",
              "      <td>0.745120</td>\n",
              "      <td>True</td>\n",
              "      <td>REGULAR</td>\n",
              "      <td>USD</td>\n",
              "    </tr>\n",
              "    <tr>\n",
              "      <th>2</th>\n",
              "      <td>MSFT220401C00235000</td>\n",
              "      <td>2022-03-16 15:01:43+00:00</td>\n",
              "      <td>235.0</td>\n",
              "      <td>56.45</td>\n",
              "      <td>57.85</td>\n",
              "      <td>61.2</td>\n",
              "      <td>8.450001</td>\n",
              "      <td>17.604168</td>\n",
              "      <td>60.0</td>\n",
              "      <td>1</td>\n",
              "      <td>0.775393</td>\n",
              "      <td>True</td>\n",
              "      <td>REGULAR</td>\n",
              "      <td>USD</td>\n",
              "    </tr>\n",
              "    <tr>\n",
              "      <th>3</th>\n",
              "      <td>MSFT220401C00240000</td>\n",
              "      <td>2022-03-16 16:35:02+00:00</td>\n",
              "      <td>240.0</td>\n",
              "      <td>50.71</td>\n",
              "      <td>52.35</td>\n",
              "      <td>55.9</td>\n",
              "      <td>5.879997</td>\n",
              "      <td>13.116211</td>\n",
              "      <td>2.0</td>\n",
              "      <td>28</td>\n",
              "      <td>0.686282</td>\n",
              "      <td>True</td>\n",
              "      <td>REGULAR</td>\n",
              "      <td>USD</td>\n",
              "    </tr>\n",
              "    <tr>\n",
              "      <th>4</th>\n",
              "      <td>MSFT220401C00245000</td>\n",
              "      <td>2022-03-08 15:09:01+00:00</td>\n",
              "      <td>245.0</td>\n",
              "      <td>30.80</td>\n",
              "      <td>47.50</td>\n",
              "      <td>51.0</td>\n",
              "      <td>0.000000</td>\n",
              "      <td>0.000000</td>\n",
              "      <td>1.0</td>\n",
              "      <td>20</td>\n",
              "      <td>0.642826</td>\n",
              "      <td>True</td>\n",
              "      <td>REGULAR</td>\n",
              "      <td>USD</td>\n",
              "    </tr>\n",
              "  </tbody>\n",
              "</table>\n",
              "</div>"
            ],
            "text/plain": [
              "        contractSymbol             lastTradeDate  strike  lastPrice    bid   \n",
              "0  MSFT220401C00200000 2022-03-11 18:31:22+00:00   200.0      85.50  92.10  \\\n",
              "1  MSFT220401C00225000 2022-02-23 17:58:36+00:00   225.0      62.30  67.20   \n",
              "2  MSFT220401C00235000 2022-03-16 15:01:43+00:00   235.0      56.45  57.85   \n",
              "3  MSFT220401C00240000 2022-03-16 16:35:02+00:00   240.0      50.71  52.35   \n",
              "4  MSFT220401C00245000 2022-03-08 15:09:01+00:00   245.0      30.80  47.50   \n",
              "\n",
              "    ask    change  percentChange  volume  openInterest  impliedVolatility   \n",
              "0  96.2  0.000000       0.000000     2.0            21           1.192387  \\\n",
              "1  70.2  0.000000       0.000000     1.0             0           0.745120   \n",
              "2  61.2  8.450001      17.604168    60.0             1           0.775393   \n",
              "3  55.9  5.879997      13.116211     2.0            28           0.686282   \n",
              "4  51.0  0.000000       0.000000     1.0            20           0.642826   \n",
              "\n",
              "   inTheMoney contractSize currency  \n",
              "0        True      REGULAR      USD  \n",
              "1        True      REGULAR      USD  \n",
              "2        True      REGULAR      USD  \n",
              "3        True      REGULAR      USD  \n",
              "4        True      REGULAR      USD  "
            ]
          },
          "execution_count": 239,
          "metadata": {},
          "output_type": "execute_result"
        }
      ],
      "source": [
        "msft_calls[idx].head()"
      ]
    },
    {
      "cell_type": "code",
      "execution_count": 240,
      "metadata": {},
      "outputs": [],
      "source": [
        "columns = [\n",
        "    # 'log_time_value',\n",
        "    'log_V2K',\n",
        "    'r',\n",
        "    'T',\n",
        "    # 'log_S2K'\n",
        "    'S2K'\n",
        "]\n",
        "target = 'sigma'\n",
        "real_dataset = MyDataset(real_df, columns, target)\n",
        "real_dataloader = DataLoader(real_dataset, shuffle=False, batch_size=len(real_dataset))"
      ]
    },
    {
      "cell_type": "code",
      "execution_count": 241,
      "metadata": {
        "colab": {
          "base_uri": "https://localhost:8080/"
        },
        "id": "8umEGnUk6hBE",
        "outputId": "c4580a93-3380-4841-c791-16667c687fd3"
      },
      "outputs": [
        {
          "name": "stdout",
          "output_type": "stream",
          "text": [
            "Loss: 0.0612\n"
          ]
        }
      ],
      "source": [
        "model.eval()\n",
        "with torch.no_grad():\n",
        "    X, y = next(iter(real_dataloader))\n",
        "    X = X.to(device)\n",
        "    y = y.unsqueeze(1)\n",
        "    out = model(X).cpu()\n",
        "    loss = criterion(out, y)\n",
        "    print(f'Loss: {loss.item():0.4f}')"
      ]
    },
    {
      "cell_type": "code",
      "execution_count": 242,
      "metadata": {
        "colab": {
          "base_uri": "https://localhost:8080/"
        },
        "id": "NIaGOncYJD4w",
        "outputId": "15cde41f-f166-48ac-b632-43376f361f07"
      },
      "outputs": [
        {
          "name": "stdout",
          "output_type": "stream",
          "text": [
            "Train loss: 0.0045\n",
            "Test loss: 0.0044\n"
          ]
        }
      ],
      "source": [
        "print(f'Train loss: {logs[\"train_loss\"][-1]:0.4f}')\n",
        "print(f'Test loss: {logs[\"test_loss\"][-1]:0.4f}')"
      ]
    },
    {
      "cell_type": "code",
      "execution_count": 243,
      "metadata": {
        "colab": {
          "base_uri": "https://localhost:8080/",
          "height": 415
        },
        "id": "sPvAOyGJJXaU",
        "outputId": "4799b2d0-35f0-47e3-bb67-b225f215680e"
      },
      "outputs": [
        {
          "data": {
            "image/png": "[encoded data removed]",
            "text/plain": [
              "<Figure size 1200x600 with 1 Axes>"
            ]
          },
          "metadata": {},
          "output_type": "display_data"
        }
      ],
      "source": [
        "plt.figure(figsize=(12,6))\n",
        "plt.title('Восстановление улыбки волатильности с помощью нейросети')\n",
        "plt.scatter(y=out[:,0], x=real_df.S2K, c='r', label='Нейросеть')\n",
        "plt.scatter(x=real_df.S2K, y=real_df.sigma, c='g', label='Рыночные данные')\n",
        "plt.axvline(x=1, c='r', linestyle='--')\n",
        "plt.xlabel('asset price / strike')\n",
        "plt.ylabel('implied volatility')\n",
        "plt.legend()\n",
        "plt.show()"
      ]
    },
    {
      "cell_type": "markdown",
      "metadata": {
        "id": "CiWnvOhUMF9g"
      },
      "source": [
        "Надо расширить границы семплинга параметров, чтобы нейросеть могла обучиться более подробно   \n",
        "Так же стоит добавить шум при обучении, чтобы сетка была более стабильна"
      ]
    },
    {
      "cell_type": "markdown",
      "metadata": {},
      "source": []
    },
    {
      "cell_type": "code",
      "execution_count": 1,
      "metadata": {
        "id": "kW84HkCpKoUg"
      },
      "outputs": [
        {
          "data": {
            "text/plain": [
              "4"
            ]
          },
          "execution_count": 1,
          "metadata": {},
          "output_type": "execute_result"
        }
      ],
      "source": [
        "2+2"
      ]
    },
    {
      "cell_type": "code",
      "execution_count": null,
      "metadata": {},
      "outputs": [],
      "source": []
    }
  ],
  "metadata": {
    "accelerator": "GPU",
    "colab": {
      "provenance": []
    },
    "gpuClass": "standard",
    "kernelspec": {
      "display_name": "Python 3",
      "name": "python3"
    },
    "language_info": {
      "codemirror_mode": {
        "name": "ipython",
        "version": 3
      },
      "file_extension": ".py",
      "mimetype": "text/x-python",
      "name": "python",
      "nbconvert_exporter": "python",
      "pygments_lexer": "ipython3",
      "version": "3.10.9"
    },
    "widgets": {
      "application/vnd.jupyter.widget-state+json": {
        "0cb16372e5034b96951ac32cb513d7ac": {
          "model_module": "@jupyter-widgets/controls",
          "model_module_version": "1.5.0",
          "model_name": "FloatProgressModel",
          "state": {
            "_dom_classes": [],
            "_model_module": "@jupyter-widgets/controls",
            "_model_module_version": "1.5.0",
            "_model_name": "FloatProgressModel",
            "_view_count": null,
            "_view_module": "@jupyter-widgets/controls",
            "_view_module_version": "1.5.0",
            "_view_name": "ProgressView",
            "bar_style": "success",
            "description": "",
            "description_tooltip": null,
            "layout": "IPY_MODEL_4f201b59d0a249408654a163b7cdb00d",
            "max": 100,
            "min": 0,
            "orientation": "horizontal",
            "style": "IPY_MODEL_4f58dd93c6ac4b3899d6db117632f188",
            "value": 100
          }
        },
        "175ed40bbd5c44da93f86829efc9546f": {
          "model_module": "@jupyter-widgets/controls",
          "model_module_version": "1.5.0",
          "model_name": "DescriptionStyleModel",
          "state": {
            "_model_module": "@jupyter-widgets/controls",
            "_model_module_version": "1.5.0",
            "_model_name": "DescriptionStyleModel",
            "_view_count": null,
            "_view_module": "@jupyter-widgets/base",
            "_view_module_version": "1.2.0",
            "_view_name": "StyleView",
            "description_width": ""
          }
        },
        "1ea7a628e684416b867544e41867ff22": {
          "model_module": "@jupyter-widgets/base",
          "model_module_version": "1.2.0",
          "model_name": "LayoutModel",
          "state": {
            "_model_module": "@jupyter-widgets/base",
            "_model_module_version": "1.2.0",
            "_model_name": "LayoutModel",
            "_view_count": null,
            "_view_module": "@jupyter-widgets/base",
            "_view_module_version": "1.2.0",
            "_view_name": "LayoutView",
            "align_content": null,
            "align_items": null,
            "align_self": null,
            "border": null,
            "bottom": null,
            "display": null,
            "flex": null,
            "flex_flow": null,
            "grid_area": null,
            "grid_auto_columns": null,
            "grid_auto_flow": null,
            "grid_auto_rows": null,
            "grid_column": null,
            "grid_gap": null,
            "grid_row": null,
            "grid_template_areas": null,
            "grid_template_columns": null,
            "grid_template_rows": null,
            "height": null,
            "justify_content": null,
            "justify_items": null,
            "left": null,
            "margin": null,
            "max_height": null,
            "max_width": null,
            "min_height": null,
            "min_width": null,
            "object_fit": null,
            "object_position": null,
            "order": null,
            "overflow": null,
            "overflow_x": null,
            "overflow_y": null,
            "padding": null,
            "right": null,
            "top": null,
            "visibility": null,
            "width": null
          }
        },
        "36459dd01c2848eb8ca8ae3bc077a5f1": {
          "model_module": "@jupyter-widgets/controls",
          "model_module_version": "1.5.0",
          "model_name": "DescriptionStyleModel",
          "state": {
            "_model_module": "@jupyter-widgets/controls",
            "_model_module_version": "1.5.0",
            "_model_name": "DescriptionStyleModel",
            "_view_count": null,
            "_view_module": "@jupyter-widgets/base",
            "_view_module_version": "1.2.0",
            "_view_name": "StyleView",
            "description_width": ""
          }
        },
        "4f201b59d0a249408654a163b7cdb00d": {
          "model_module": "@jupyter-widgets/base",
          "model_module_version": "1.2.0",
          "model_name": "LayoutModel",
          "state": {
            "_model_module": "@jupyter-widgets/base",
            "_model_module_version": "1.2.0",
            "_model_name": "LayoutModel",
            "_view_count": null,
            "_view_module": "@jupyter-widgets/base",
            "_view_module_version": "1.2.0",
            "_view_name": "LayoutView",
            "align_content": null,
            "align_items": null,
            "align_self": null,
            "border": null,
            "bottom": null,
            "display": null,
            "flex": null,
            "flex_flow": null,
            "grid_area": null,
            "grid_auto_columns": null,
            "grid_auto_flow": null,
            "grid_auto_rows": null,
            "grid_column": null,
            "grid_gap": null,
            "grid_row": null,
            "grid_template_areas": null,
            "grid_template_columns": null,
            "grid_template_rows": null,
            "height": null,
            "justify_content": null,
            "justify_items": null,
            "left": null,
            "margin": null,
            "max_height": null,
            "max_width": null,
            "min_height": null,
            "min_width": null,
            "object_fit": null,
            "object_position": null,
            "order": null,
            "overflow": null,
            "overflow_x": null,
            "overflow_y": null,
            "padding": null,
            "right": null,
            "top": null,
            "visibility": null,
            "width": null
          }
        },
        "4f58dd93c6ac4b3899d6db117632f188": {
          "model_module": "@jupyter-widgets/controls",
          "model_module_version": "1.5.0",
          "model_name": "ProgressStyleModel",
          "state": {
            "_model_module": "@jupyter-widgets/controls",
            "_model_module_version": "1.5.0",
            "_model_name": "ProgressStyleModel",
            "_view_count": null,
            "_view_module": "@jupyter-widgets/base",
            "_view_module_version": "1.2.0",
            "_view_name": "StyleView",
            "bar_color": null,
            "description_width": ""
          }
        },
        "57d05df98b864f15839487d7f963ad42": {
          "model_module": "@jupyter-widgets/base",
          "model_module_version": "1.2.0",
          "model_name": "LayoutModel",
          "state": {
            "_model_module": "@jupyter-widgets/base",
            "_model_module_version": "1.2.0",
            "_model_name": "LayoutModel",
            "_view_count": null,
            "_view_module": "@jupyter-widgets/base",
            "_view_module_version": "1.2.0",
            "_view_name": "LayoutView",
            "align_content": null,
            "align_items": null,
            "align_self": null,
            "border": null,
            "bottom": null,
            "display": null,
            "flex": null,
            "flex_flow": null,
            "grid_area": null,
            "grid_auto_columns": null,
            "grid_auto_flow": null,
            "grid_auto_rows": null,
            "grid_column": null,
            "grid_gap": null,
            "grid_row": null,
            "grid_template_areas": null,
            "grid_template_columns": null,
            "grid_template_rows": null,
            "height": null,
            "justify_content": null,
            "justify_items": null,
            "left": null,
            "margin": null,
            "max_height": null,
            "max_width": null,
            "min_height": null,
            "min_width": null,
            "object_fit": null,
            "object_position": null,
            "order": null,
            "overflow": null,
            "overflow_x": null,
            "overflow_y": null,
            "padding": null,
            "right": null,
            "top": null,
            "visibility": null,
            "width": null
          }
        },
        "5f90f999ca6f485482c991824a1cbe75": {
          "model_module": "@jupyter-widgets/controls",
          "model_module_version": "1.5.0",
          "model_name": "HBoxModel",
          "state": {
            "_dom_classes": [],
            "_model_module": "@jupyter-widgets/controls",
            "_model_module_version": "1.5.0",
            "_model_name": "HBoxModel",
            "_view_count": null,
            "_view_module": "@jupyter-widgets/controls",
            "_view_module_version": "1.5.0",
            "_view_name": "HBoxView",
            "box_style": "",
            "children": [
              "IPY_MODEL_ade0ba0170fa479299dccc2b5e1220a9",
              "IPY_MODEL_0cb16372e5034b96951ac32cb513d7ac",
              "IPY_MODEL_8cbd9b3370784ff68f4094ede4fa1592"
            ],
            "layout": "IPY_MODEL_77b7b948fc424f78b5fdfa41b7f7c425"
          }
        },
        "77b7b948fc424f78b5fdfa41b7f7c425": {
          "model_module": "@jupyter-widgets/base",
          "model_module_version": "1.2.0",
          "model_name": "LayoutModel",
          "state": {
            "_model_module": "@jupyter-widgets/base",
            "_model_module_version": "1.2.0",
            "_model_name": "LayoutModel",
            "_view_count": null,
            "_view_module": "@jupyter-widgets/base",
            "_view_module_version": "1.2.0",
            "_view_name": "LayoutView",
            "align_content": null,
            "align_items": null,
            "align_self": null,
            "border": null,
            "bottom": null,
            "display": null,
            "flex": null,
            "flex_flow": null,
            "grid_area": null,
            "grid_auto_columns": null,
            "grid_auto_flow": null,
            "grid_auto_rows": null,
            "grid_column": null,
            "grid_gap": null,
            "grid_row": null,
            "grid_template_areas": null,
            "grid_template_columns": null,
            "grid_template_rows": null,
            "height": null,
            "justify_content": null,
            "justify_items": null,
            "left": null,
            "margin": null,
            "max_height": null,
            "max_width": null,
            "min_height": null,
            "min_width": null,
            "object_fit": null,
            "object_position": null,
            "order": null,
            "overflow": null,
            "overflow_x": null,
            "overflow_y": null,
            "padding": null,
            "right": null,
            "top": null,
            "visibility": null,
            "width": null
          }
        },
        "8cbd9b3370784ff68f4094ede4fa1592": {
          "model_module": "@jupyter-widgets/controls",
          "model_module_version": "1.5.0",
          "model_name": "HTMLModel",
          "state": {
            "_dom_classes": [],
            "_model_module": "@jupyter-widgets/controls",
            "_model_module_version": "1.5.0",
            "_model_name": "HTMLModel",
            "_view_count": null,
            "_view_module": "@jupyter-widgets/controls",
            "_view_module_version": "1.5.0",
            "_view_name": "HTMLView",
            "description": "",
            "description_tooltip": null,
            "layout": "IPY_MODEL_57d05df98b864f15839487d7f963ad42",
            "placeholder": "​",
            "style": "IPY_MODEL_36459dd01c2848eb8ca8ae3bc077a5f1",
            "value": " 100/100 [02:47&lt;00:00,  2.47s/it]"
          }
        },
        "ade0ba0170fa479299dccc2b5e1220a9": {
          "model_module": "@jupyter-widgets/controls",
          "model_module_version": "1.5.0",
          "model_name": "HTMLModel",
          "state": {
            "_dom_classes": [],
            "_model_module": "@jupyter-widgets/controls",
            "_model_module_version": "1.5.0",
            "_model_name": "HTMLModel",
            "_view_count": null,
            "_view_module": "@jupyter-widgets/controls",
            "_view_module_version": "1.5.0",
            "_view_name": "HTMLView",
            "description": "",
            "description_tooltip": null,
            "layout": "IPY_MODEL_1ea7a628e684416b867544e41867ff22",
            "placeholder": "​",
            "style": "IPY_MODEL_175ed40bbd5c44da93f86829efc9546f",
            "value": "Epoch: 100%"
          }
        }
      }
    }
  },
  "nbformat": 4,
  "nbformat_minor": 0
}
